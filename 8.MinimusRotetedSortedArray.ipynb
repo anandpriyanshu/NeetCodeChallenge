{
 "cells": [
  {
   "cell_type": "code",
   "execution_count": 3,
   "id": "5279f875",
   "metadata": {},
   "outputs": [
    {
     "name": "stdout",
     "output_type": "stream",
     "text": [
      "1\n"
     ]
    }
   ],
   "source": [
    "def findMinimumRotetedSoretedArr(nums):\n",
    "  # return min(sorted(nums))\n",
    "\n",
    "  # 2nd approach\n",
    "  l ,r =0 , len(nums)-1\n",
    "  while l<r:\n",
    "    mid = (l+r)//2\n",
    "\n",
    "    if nums[mid] > nums[r]:\n",
    "      l = mid+1\n",
    "    \n",
    "    else:\n",
    "      r = mid\n",
    "    \n",
    "  return nums[l]\n",
    "\n",
    "\n",
    "nums = [3,4,5,1,2]\n",
    "print(findMinimumRotetedSoretedArr(nums))"
   ]
  },
  {
   "cell_type": "code",
   "execution_count": null,
   "id": "0e1dff5c",
   "metadata": {},
   "outputs": [],
   "source": []
  }
 ],
 "metadata": {
  "kernelspec": {
   "display_name": "Python 3",
   "language": "python",
   "name": "python3"
  },
  "language_info": {
   "codemirror_mode": {
    "name": "ipython",
    "version": 3
   },
   "file_extension": ".py",
   "mimetype": "text/x-python",
   "name": "python",
   "nbconvert_exporter": "python",
   "pygments_lexer": "ipython3",
   "version": "3.11.9"
  }
 },
 "nbformat": 4,
 "nbformat_minor": 5
}
