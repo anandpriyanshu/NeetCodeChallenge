{
 "cells": [
  {
   "cell_type": "code",
   "execution_count": null,
   "id": "eb03bd73",
   "metadata": {},
   "outputs": [],
   "source": [
    "def two_sum(numbers, target):\n",
    "  left, right = 0, len(numbers) - 1\n",
    "\n",
    "  while left < right:\n",
    "    current_sum = numbers[left] + numbers[right]\n",
    "    if current_sum > target:\n",
    "        right -= 1\n",
    "    elif current_sum < target:\n",
    "      left += 1\n",
    "    else:\n",
    "       return [left + 1, right + 1]  \n",
    "    \n",
    "\n",
    "  return []"
   ]
  },
  {
   "cell_type": "code",
   "execution_count": null,
   "id": "432fe2d9",
   "metadata": {},
   "outputs": [],
   "source": []
  }
 ],
 "metadata": {
  "kernelspec": {
   "display_name": "Python 3",
   "language": "python",
   "name": "python3"
  },
  "language_info": {
   "name": "python",
   "version": "3.11.9"
  }
 },
 "nbformat": 4,
 "nbformat_minor": 5
}
