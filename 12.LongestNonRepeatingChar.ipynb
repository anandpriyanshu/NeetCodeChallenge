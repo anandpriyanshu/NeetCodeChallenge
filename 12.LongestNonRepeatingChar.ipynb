{
 "cells": [
  {
   "cell_type": "code",
   "execution_count": 9,
   "id": "a7a89183",
   "metadata": {},
   "outputs": [
    {
     "name": "stdout",
     "output_type": "stream",
     "text": [
      "3\n"
     ]
    }
   ],
   "source": [
    "def LongestNonRepeatingChar(s):\n",
    "  charSet = set()\n",
    "  l = 0\n",
    "  res = 0\n",
    "  for r in range(len(s)):\n",
    "    while s[r] in charSet:\n",
    "      charSet.remove(s[l])\n",
    "      l+=1\n",
    "      \n",
    "    charSet.add(s[r])\n",
    "    res = max(res,r-l+1)\n",
    "  return res\n",
    "\n",
    "s = \"abcabcbb\"\n",
    "print(LongestNonRepeatingChar(s))"
   ]
  },
  {
   "cell_type": "code",
   "execution_count": null,
   "id": "faed4cf4",
   "metadata": {},
   "outputs": [],
   "source": []
  }
 ],
 "metadata": {
  "kernelspec": {
   "display_name": "Python 3",
   "language": "python",
   "name": "python3"
  },
  "language_info": {
   "codemirror_mode": {
    "name": "ipython",
    "version": 3
   },
   "file_extension": ".py",
   "mimetype": "text/x-python",
   "name": "python",
   "nbconvert_exporter": "python",
   "pygments_lexer": "ipython3",
   "version": "3.11.9"
  }
 },
 "nbformat": 4,
 "nbformat_minor": 5
}
