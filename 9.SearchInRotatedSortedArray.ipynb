{
 "cells": [
  {
   "cell_type": "code",
   "execution_count": 1,
   "id": "e84faaf1",
   "metadata": {},
   "outputs": [],
   "source": [
    "def searchInRotatedSortedArr(nums,tgt):\n",
    "  l,r =0 , len(nums)-1\n",
    "\n",
    "  while l<=r:\n",
    "    mid  = (l+r)//2\n",
    "\n",
    "    if nums[mid] == tgt: return mid\n",
    "\n",
    "    # left portion\n",
    "    if nums[l]<nums[mid]:\n",
    "      if tgt > nums[mid] or tgt< nums[l]:\n",
    "        l = mid +1\n",
    "      else:\n",
    "         r = mid - 1\n",
    "    \n",
    "    # right portion\n",
    "\n",
    "    else:\n",
    "\n",
    "      if tgt < nums[mid] or tgt > nums[r]:\n",
    "        r = mid + 1\n",
    "      else:\n",
    "        l = mid + 1\n",
    "\n",
    "  return -1\n"
   ]
  },
  {
   "cell_type": "code",
   "execution_count": 3,
   "id": "cc8d017d",
   "metadata": {},
   "outputs": [
    {
     "name": "stdout",
     "output_type": "stream",
     "text": [
      "4\n"
     ]
    }
   ],
   "source": [
    "nums = [4,5,6,7,0,1,2] \n",
    "target = 0\n",
    "print(searchInRotatedSortedArr(nums,target))"
   ]
  },
  {
   "cell_type": "code",
   "execution_count": null,
   "id": "3755f0ec",
   "metadata": {},
   "outputs": [],
   "source": []
  }
 ],
 "metadata": {
  "kernelspec": {
   "display_name": "Python 3",
   "language": "python",
   "name": "python3"
  },
  "language_info": {
   "codemirror_mode": {
    "name": "ipython",
    "version": 3
   },
   "file_extension": ".py",
   "mimetype": "text/x-python",
   "name": "python",
   "nbconvert_exporter": "python",
   "pygments_lexer": "ipython3",
   "version": "3.11.9"
  }
 },
 "nbformat": 4,
 "nbformat_minor": 5
}
