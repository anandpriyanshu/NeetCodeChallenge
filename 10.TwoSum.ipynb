{
 "cells": [
  {
   "cell_type": "code",
   "execution_count": null,
   "id": "2732c04b",
   "metadata": {},
   "outputs": [],
   "source": [
    "def twoSum(self, numbers, target):\n",
    "        l = 0\n",
    "        r = len(numbers) - 1\n",
    "\n",
    "        while numbers[l] + numbers[r] != target:\n",
    "            if numbers[l] + numbers[r] > target:\n",
    "                r -= 1\n",
    "            else:\n",
    "                l += 1\n",
    "\n",
    "        return [l + 1, r + 1]\n",
    "\n"
   ]
  }
 ],
 "metadata": {
  "language_info": {
   "name": "python"
  }
 },
 "nbformat": 4,
 "nbformat_minor": 5
}
