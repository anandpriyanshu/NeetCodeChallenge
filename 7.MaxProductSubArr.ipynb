{
 "cells": [
  {
   "cell_type": "code",
   "execution_count": 2,
   "id": "f7fed30b",
   "metadata": {},
   "outputs": [
    {
     "name": "stdout",
     "output_type": "stream",
     "text": [
      "6\n"
     ]
    }
   ],
   "source": [
    "def maxProductSumArr(nums):\n",
    "  currMax, currMin = 1,1\n",
    "  res = nums[0]\n",
    "  for i in nums:\n",
    "    values= (i,i*currMax,i*currMin)\n",
    "    currMax,currMin = max(values),min(values)\n",
    "    res = max(currMax,res)\n",
    "\n",
    "  return res\n",
    "\n",
    "\n",
    "nums = [2,3,-2,4]\n",
    "print(maxProductSumArr(nums))\n",
    "\n"
   ]
  },
  {
   "cell_type": "code",
   "execution_count": null,
   "id": "6c740c90",
   "metadata": {},
   "outputs": [],
   "source": []
  }
 ],
 "metadata": {
  "kernelspec": {
   "display_name": "Python 3",
   "language": "python",
   "name": "python3"
  },
  "language_info": {
   "codemirror_mode": {
    "name": "ipython",
    "version": 3
   },
   "file_extension": ".py",
   "mimetype": "text/x-python",
   "name": "python",
   "nbconvert_exporter": "python",
   "pygments_lexer": "ipython3",
   "version": "3.11.9"
  }
 },
 "nbformat": 4,
 "nbformat_minor": 5
}
